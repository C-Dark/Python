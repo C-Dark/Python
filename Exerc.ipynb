{
 "cells": [
  {
   "cell_type": "code",
   "execution_count": 20,
   "metadata": {},
   "outputs": [],
   "source": [
    "'''\n",
    "L'idea era di:\n",
    "1)leggere il file(gia creato)\n",
    "2)leggere ciascuna riga del file e mettere ogni riga come elemento di una lista. Per esempio la prima riga sarà l'elemento \n",
    "nell'indice 0 della mia lista, la riga 2 sarà l'elemento nell'indice 1 ecc\n",
    "3)ottenere il numero di elementi della mia lista ed usarlo per fare il \"ciclo for\"\n",
    "4)Nel ciclo for, scrivo gli elementi della mia lista dentro un file nuovo partendo dall'ultimo dato della lista\n",
    "'''\n",
    "\n",
    "myfile=open(\"file.txt\",\"r\")\n",
    "mylist=[]\n",
    "\n",
    "\n",
    "while True: # Keep reading forever\n",
    "    theline = myfile.readline() # Try to read next line\n",
    "    if len(theline) == 0: # If there are no more lines\n",
    "        break # leave the loop\n",
    "    # Now process the line we’ve just read\n",
    "    mylist.append(theline)\n",
    "    \n",
    "length=len(mylist)\n",
    "#print(mylist)\n",
    "\n",
    "for i in range(length-1,-1,-1):\n",
    "    mynewfile=open(\"newfile.txt\",\"a\") #apro il file e faccio \"append\" cosi non cancello il contenuto precedente\n",
    "    mynewfile.write(mylist[i]+'\\n')\n",
    "    mynewfile.close()\n",
    "myfile.close()\n",
    "    \n",
    "    "
   ]
  },
  {
   "cell_type": "code",
   "execution_count": 4,
   "metadata": {},
   "outputs": [],
   "source": [
    "myfile=open(\"file.txt\",\"r\")\n",
    "mylist=[]\n",
    "newstring=''\n",
    "\n",
    "\n",
    "while True: # Keep reading forever\n",
    "    theline = myfile.readline() # Try to read next line\n",
    "    if len(theline) == 0: # If there are no more lines\n",
    "        break # leave the loop\n",
    "    # Now process the line we’ve just read\n",
    "    mylist.append(theline)\n",
    "    \n",
    "length=len(mylist)\n",
    "#print(mylist)\n",
    "\n",
    "for i in range(length-1,-1,-1):\n",
    "    newstring=newstring +mylist[i] + '\\n'    \n",
    "    mynewfile=open(\"newfile2.txt\",\"w\")\n",
    "    mynewfile.write(newstring)\n",
    "    mynewfile.close()\n",
    "myfile.close()"
   ]
  },
  {
   "cell_type": "code",
   "execution_count": null,
   "metadata": {},
   "outputs": [],
   "source": []
  }
 ],
 "metadata": {
  "kernelspec": {
   "display_name": "Python 3",
   "language": "python",
   "name": "python3"
  },
  "language_info": {
   "codemirror_mode": {
    "name": "ipython",
    "version": 3
   },
   "file_extension": ".py",
   "mimetype": "text/x-python",
   "name": "python",
   "nbconvert_exporter": "python",
   "pygments_lexer": "ipython3",
   "version": "3.7.3"
  }
 },
 "nbformat": 4,
 "nbformat_minor": 2
}
