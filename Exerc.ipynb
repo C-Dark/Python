'''
L'idea era di:
1)leggere il file(gia creato)
2)leggere ciascuna riga del file e mettere ogni riga come elemento di una lista. Per esempio la prima riga sarà l'elemento 
nell'indice 0 della mia lista, la riga 2 sarà l'elemento nell'indice 1 ecc
3)ottenere il numero di elementi della mia lista ed usarlo per fare il "ciclo for"
4)Nel ciclo for, scrivo gli elementi della mia lista dentro un file nuovo partendo dall'ultimo dato della lista
'''

myfile=open("file.txt","r")
mylist=[]


while True: # Keep reading forever
    theline = myfile.readline() # Try to read next line
    if len(theline) == 0: # If there are no more lines
        break # leave the loop
    # Now process the line we’ve just read
    mylist.append(theline)
    
length=len(mylist)
#print(mylist)

for i in range(length-1,-1,-1):
    mynewfile=open("newfile.txt","a") #apro il file e faccio "append" cosi non cancello il contenuto precedente
    mynewfile.write(mylist[i]+'\n')
    mynewfile.close()
myfile.close()





myfile=open("file.txt","r")
mylist=[]
newstring=''


while True: # Keep reading forever
    theline = myfile.readline() # Try to read next line
    if len(theline) == 0: # If there are no more lines
        break # leave the loop
    # Now process the line we’ve just read
    mylist.append(theline)
    
length=len(mylist)
#print(mylist)

for i in range(length-1,-1,-1):
    newstring=newstring +mylist[i] + '\n'    
    mynewfile=open("newfile2.txt","w")
    mynewfile.write(newstring)
    mynewfile.close()
myfile.close()
